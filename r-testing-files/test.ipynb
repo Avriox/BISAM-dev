{
 "cells": [
  {
   "cell_type": "code",
   "execution_count": null,
   "id": "18cda981",
   "metadata": {},
   "outputs": [],
   "source": [
    "library(ggplot2)\n",
    "library(dplyr)\n",
    "library(tidyr)\n",
    "library(readr)"
   ]
  }
 ],
 "metadata": {
  "language_info": {
   "name": "r"
  }
 },
 "nbformat": 4,
 "nbformat_minor": 5
}
